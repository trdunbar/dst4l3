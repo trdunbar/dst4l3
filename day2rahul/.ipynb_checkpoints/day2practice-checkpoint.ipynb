{
 "metadata": {
  "name": "",
  "signature": "sha256:15e4be98085e33872c6d98989414639f7ad1786bac97a8d94b4b8c390a4a4702"
 },
 "nbformat": 3,
 "nbformat_minor": 0,
 "worksheets": [
  {
   "cells": [
    {
     "cell_type": "markdown",
     "metadata": {},
     "source": [
      "#Playing with Genesis (only the text)\n",
      "\n",
      "In this practice session, we'll take the text of genesis, parse it into tokens, remove stopwords, create a frequency of words list, and also create bigrams. We'll finally put our work into a github repo.\n",
      "\n",
      "The regular imports"
     ]
    },
    {
     "cell_type": "code",
     "collapsed": false,
     "input": [
      "%matplotlib inline\n",
      "import numpy as np\n",
      "import matplotlib.pyplot as plt\n",
      "import pandas as pd\n",
      "import seaborn as sns\n",
      "pd.set_option('display.width', 500)\n",
      "pd.set_option('display.max_columns', 100)"
     ],
     "language": "python",
     "metadata": {},
     "outputs": [],
     "prompt_number": 10
    },
    {
     "cell_type": "markdown",
     "metadata": {},
     "source": [
      "Some other imports"
     ]
    },
    {
     "cell_type": "code",
     "collapsed": false,
     "input": [
      "from string import punctuation\n"
     ],
     "language": "python",
     "metadata": {},
     "outputs": [],
     "prompt_number": 11
    },
    {
     "cell_type": "markdown",
     "metadata": {},
     "source": [
      "We first open Genesis and slurp it in."
     ]
    },
    {
     "cell_type": "code",
     "collapsed": false,
     "input": [
      "genesisfile=open(\"Genesis.txt\")\n",
      "genesistext=genesisfile.read()\n",
      "genesisfile.close()"
     ],
     "language": "python",
     "metadata": {},
     "outputs": [],
     "prompt_number": 12
    },
    {
     "cell_type": "markdown",
     "metadata": {},
     "source": [
      "We'll then split it into words, and clean it a bit. Look for the \"python string method translate\" on google to see what this is doing. Then we'll take each word and lower-case it."
     ]
    },
    {
     "cell_type": "code",
     "collapsed": false,
     "input": [
      "genesistoks=genesistext.split()\n",
      "genesistoks=[tok.translate(None,'[]1234567890\\xb6') for tok in genesistoks]\n",
      "lctoks = [word.lower() for word in genesistoks]\n",
      "lctoks[:100]"
     ],
     "language": "python",
     "metadata": {},
     "outputs": [
      {
       "metadata": {},
       "output_type": "pyout",
       "prompt_number": 13,
       "text": [
        "['the',\n",
        " 'first',\n",
        " 'book',\n",
        " 'of',\n",
        " 'moses,',\n",
        " 'called',\n",
        " 'genesis',\n",
        " 'chapter',\n",
        " '',\n",
        " '',\n",
        " 'in',\n",
        " 'the',\n",
        " 'beginning',\n",
        " 'god',\n",
        " 'created',\n",
        " 'the',\n",
        " 'heaven',\n",
        " 'and',\n",
        " 'the',\n",
        " 'earth.',\n",
        " '',\n",
        " 'and',\n",
        " 'the',\n",
        " 'earth',\n",
        " 'was',\n",
        " 'without',\n",
        " 'form,',\n",
        " 'and',\n",
        " 'void;',\n",
        " 'and',\n",
        " 'darkness',\n",
        " 'was',\n",
        " 'upon',\n",
        " 'the',\n",
        " 'face',\n",
        " 'of',\n",
        " 'the',\n",
        " 'deep.',\n",
        " 'and',\n",
        " 'the',\n",
        " 'spirit',\n",
        " 'of',\n",
        " 'god',\n",
        " 'moved',\n",
        " 'upon',\n",
        " 'the',\n",
        " 'face',\n",
        " 'of',\n",
        " 'the',\n",
        " 'waters.',\n",
        " '',\n",
        " 'and',\n",
        " 'god',\n",
        " 'said,',\n",
        " 'let',\n",
        " 'there',\n",
        " 'be',\n",
        " 'light:',\n",
        " 'and',\n",
        " 'there',\n",
        " 'was',\n",
        " 'light.',\n",
        " '',\n",
        " 'and',\n",
        " 'god',\n",
        " 'saw',\n",
        " 'the',\n",
        " 'light,',\n",
        " 'that',\n",
        " 'it',\n",
        " 'was',\n",
        " 'good:',\n",
        " 'and',\n",
        " 'god',\n",
        " 'divided',\n",
        " 'the',\n",
        " 'light',\n",
        " 'from',\n",
        " 'the',\n",
        " 'darkness.',\n",
        " '',\n",
        " 'and',\n",
        " 'god',\n",
        " 'called',\n",
        " 'the',\n",
        " 'light',\n",
        " 'day,',\n",
        " 'and',\n",
        " 'the',\n",
        " 'darkness',\n",
        " 'he',\n",
        " 'called',\n",
        " 'night.',\n",
        " 'and',\n",
        " 'the',\n",
        " 'evening',\n",
        " 'and',\n",
        " 'the',\n",
        " 'morning',\n",
        " 'were']"
       ]
      }
     ],
     "prompt_number": 13
    },
    {
     "cell_type": "code",
     "collapsed": false,
     "input": [
      "len(lctoks)"
     ],
     "language": "python",
     "metadata": {},
     "outputs": [
      {
       "metadata": {},
       "output_type": "pyout",
       "prompt_number": 14,
       "text": [
        "40092"
       ]
      }
     ],
     "prompt_number": 14
    },
    {
     "cell_type": "markdown",
     "metadata": {},
     "source": [
      "Let us read the stopwords in, and create a list of them."
     ]
    },
    {
     "cell_type": "code",
     "collapsed": false,
     "input": [
      "with open(\"english.stop.txt\") as f:\n",
      "    stops=[e.strip() for e in f.readlines()]\n",
      "stops[:50]"
     ],
     "language": "python",
     "metadata": {},
     "outputs": [
      {
       "metadata": {},
       "output_type": "pyout",
       "prompt_number": 15,
       "text": [
        "['a',\n",
        " \"a's\",\n",
        " 'able',\n",
        " 'about',\n",
        " 'above',\n",
        " 'according',\n",
        " 'accordingly',\n",
        " 'across',\n",
        " 'actually',\n",
        " 'after',\n",
        " 'afterwards',\n",
        " 'again',\n",
        " 'against',\n",
        " \"ain't\",\n",
        " 'all',\n",
        " 'allow',\n",
        " 'allows',\n",
        " 'almost',\n",
        " 'alone',\n",
        " 'along',\n",
        " 'already',\n",
        " 'also',\n",
        " 'although',\n",
        " 'always',\n",
        " 'am',\n",
        " 'among',\n",
        " 'amongst',\n",
        " 'an',\n",
        " 'and',\n",
        " 'another',\n",
        " 'any',\n",
        " 'anybody',\n",
        " 'anyhow',\n",
        " 'anyone',\n",
        " 'anything',\n",
        " 'anyway',\n",
        " 'anyways',\n",
        " 'anywhere',\n",
        " 'apart',\n",
        " 'appear',\n",
        " 'appreciate',\n",
        " 'appropriate',\n",
        " 'are',\n",
        " \"aren't\",\n",
        " 'around',\n",
        " 'as',\n",
        " 'aside',\n",
        " 'ask',\n",
        " 'asking',\n",
        " 'associated']"
       ]
      }
     ],
     "prompt_number": 15
    },
    {
     "cell_type": "markdown",
     "metadata": {},
     "source": [
      "Let us get rid of empty strings, and stop words."
     ]
    },
    {
     "cell_type": "code",
     "collapsed": false,
     "input": [
      "len([e for e in lctoks if e==\"\"])"
     ],
     "language": "python",
     "metadata": {},
     "outputs": [
      {
       "metadata": {},
       "output_type": "pyout",
       "prompt_number": 16,
       "text": [
        "1773"
       ]
      }
     ],
     "prompt_number": 16
    },
    {
     "cell_type": "markdown",
     "metadata": {},
     "source": [
      "There are 1773 empty strings! We'll remove them from the originallist"
     ]
    },
    {
     "cell_type": "code",
     "collapsed": false,
     "input": [
      "temp=[]\n",
      "for token in lctoks:\n",
      "    if token != \"\":\n",
      "        temp.append(token)\n",
      "lctoks=temp\n",
      "len(lctoks)"
     ],
     "language": "python",
     "metadata": {},
     "outputs": [
      {
       "metadata": {},
       "output_type": "pyout",
       "prompt_number": 17,
       "text": [
        "38319"
       ]
      }
     ],
     "prompt_number": 17
    },
    {
     "cell_type": "markdown",
     "metadata": {},
     "source": [
      "Now let us handle the stop words"
     ]
    },
    {
     "cell_type": "code",
     "collapsed": false,
     "input": [
      "lcnstoks=[] #look up the docs for filter\n",
      "for tok in lctoks:\n",
      "     if tok not in stops:\n",
      "        lcnstoks.append(tok)\n",
      "lcnstoks[:100]"
     ],
     "language": "python",
     "metadata": {},
     "outputs": [
      {
       "metadata": {},
       "output_type": "pyout",
       "prompt_number": 18,
       "text": [
        "['book',\n",
        " 'moses,',\n",
        " 'called',\n",
        " 'genesis',\n",
        " 'chapter',\n",
        " 'beginning',\n",
        " 'god',\n",
        " 'created',\n",
        " 'heaven',\n",
        " 'earth.',\n",
        " 'earth',\n",
        " 'form,',\n",
        " 'void;',\n",
        " 'darkness',\n",
        " 'face',\n",
        " 'deep.',\n",
        " 'spirit',\n",
        " 'god',\n",
        " 'moved',\n",
        " 'face',\n",
        " 'waters.',\n",
        " 'god',\n",
        " 'said,',\n",
        " 'light:',\n",
        " 'light.',\n",
        " 'god',\n",
        " 'light,',\n",
        " 'good:',\n",
        " 'god',\n",
        " 'divided',\n",
        " 'light',\n",
        " 'darkness.',\n",
        " 'god',\n",
        " 'called',\n",
        " 'light',\n",
        " 'day,',\n",
        " 'darkness',\n",
        " 'called',\n",
        " 'night.',\n",
        " 'evening',\n",
        " 'morning',\n",
        " 'day.',\n",
        " 'god',\n",
        " 'said,',\n",
        " 'firmament',\n",
        " 'midst',\n",
        " 'waters,',\n",
        " 'divide',\n",
        " 'waters',\n",
        " 'waters.',\n",
        " 'god',\n",
        " 'made',\n",
        " 'firmament,',\n",
        " 'divided',\n",
        " 'waters',\n",
        " 'firmament',\n",
        " 'waters',\n",
        " 'firmament:',\n",
        " 'so.',\n",
        " 'god',\n",
        " 'called',\n",
        " 'firmament',\n",
        " 'heaven.',\n",
        " 'evening',\n",
        " 'morning',\n",
        " 'day.',\n",
        " 'god',\n",
        " 'said,',\n",
        " 'waters',\n",
        " 'heaven',\n",
        " 'gathered',\n",
        " 'place,',\n",
        " 'dry',\n",
        " 'land',\n",
        " 'appear:',\n",
        " 'so.',\n",
        " 'god',\n",
        " 'called',\n",
        " 'dry',\n",
        " 'land',\n",
        " 'earth;',\n",
        " 'gathering',\n",
        " 'waters',\n",
        " 'called',\n",
        " 'seas:',\n",
        " 'god',\n",
        " 'good.',\n",
        " 'god',\n",
        " 'said,',\n",
        " 'earth',\n",
        " 'bring',\n",
        " 'grass,',\n",
        " 'herb',\n",
        " 'yielding',\n",
        " 'seed,',\n",
        " 'fruit',\n",
        " 'tree',\n",
        " 'yielding',\n",
        " 'fruit',\n",
        " 'kind,']"
       ]
      }
     ],
     "prompt_number": 18
    },
    {
     "cell_type": "code",
     "collapsed": false,
     "input": [
      "print len(lcnstoks)"
     ],
     "language": "python",
     "metadata": {},
     "outputs": [
      {
       "output_type": "stream",
       "stream": "stdout",
       "text": [
        "15917\n"
       ]
      }
     ],
     "prompt_number": 19
    },
    {
     "cell_type": "markdown",
     "metadata": {},
     "source": [
      "But we still have periods and commas and all that. Lets see what python thinks is punctuation"
     ]
    },
    {
     "cell_type": "code",
     "collapsed": false,
     "input": [
      "from string import punctuation\n",
      "punctuation"
     ],
     "language": "python",
     "metadata": {},
     "outputs": [
      {
       "metadata": {},
       "output_type": "pyout",
       "prompt_number": 20,
       "text": [
        "'!\"#$%&\\'()*+,-./:;<=>?@[\\\\]^_`{|}~'"
       ]
      }
     ],
     "prompt_number": 20
    },
    {
     "cell_type": "markdown",
     "metadata": {},
     "source": [
      "We want to keep the single quotes as they are used in the text"
     ]
    },
    {
     "cell_type": "code",
     "collapsed": false,
     "input": [
      "my_punctuation=punctuation.translate(None,\"'\")\n",
      "my_punctuation"
     ],
     "language": "python",
     "metadata": {},
     "outputs": [
      {
       "metadata": {},
       "output_type": "pyout",
       "prompt_number": 21,
       "text": [
        "'!\"#$%&()*+,-./:;<=>?@[\\\\]^_`{|}~'"
       ]
      }
     ],
     "prompt_number": 21
    },
    {
     "cell_type": "markdown",
     "metadata": {},
     "source": [
      "We remove the punctuation from both the `lctoks` as well as the `lcnstoks`"
     ]
    },
    {
     "cell_type": "code",
     "collapsed": false,
     "input": [
      "lctoks=[tok.translate(None,my_punctuation) for tok in lctoks]\n",
      "lcnstoks=[tok.translate(None,my_punctuation) for tok in lcnstoks]\n",
      "len(lctoks), len(lcnstoks)"
     ],
     "language": "python",
     "metadata": {},
     "outputs": [
      {
       "metadata": {},
       "output_type": "pyout",
       "prompt_number": 22,
       "text": [
        "(38319, 15917)"
       ]
      }
     ],
     "prompt_number": 22
    },
    {
     "cell_type": "markdown",
     "metadata": {},
     "source": [
      "Not all of these words are unique. To make things unique we put them inside sets. A set does not take duplicate items, and it also quacks like a python: ie it behaves like a list."
     ]
    },
    {
     "cell_type": "code",
     "collapsed": false,
     "input": [
      "uniqlcnstoks = set(lcnstoks)\n",
      "len(uniqlcnstoks)"
     ],
     "language": "python",
     "metadata": {},
     "outputs": [
      {
       "metadata": {},
       "output_type": "pyout",
       "prompt_number": 23,
       "text": [
        "2383"
       ]
      }
     ],
     "prompt_number": 23
    },
    {
     "cell_type": "markdown",
     "metadata": {},
     "source": [
      "Lets count the number of times each unique token gets seen."
     ]
    },
    {
     "cell_type": "code",
     "collapsed": false,
     "input": [
      "tokencounts=[]\n",
      "for ut in uniqlcnstoks:\n",
      "    tokencounts.append(lcnstoks.count(ut))\n",
      "together=zip(uniqlcnstoks, tokencounts)\n",
      "together[:20]"
     ],
     "language": "python",
     "metadata": {},
     "outputs": [
      {
       "metadata": {},
       "output_type": "pyout",
       "prompt_number": 37,
       "text": [
        "[('haggi', 0),\n",
        " ('chesed', 0),\n",
        " ('hath', 78),\n",
        " ('protest', 1),\n",
        " ('sleep', 3),\n",
        " ('jahzeel', 0),\n",
        " ('captain', 9),\n",
        " ('integrity', 2),\n",
        " ('yonder', 1),\n",
        " ('sevens', 0),\n",
        " ('feeding', 1),\n",
        " ('whoso', 1),\n",
        " ('intreat', 1),\n",
        " ('sinew', 2),\n",
        " ('whatsoever', 5),\n",
        " ('lord', 144),\n",
        " ('worth', 2),\n",
        " ('merchant', 0),\n",
        " ('tarry', 3),\n",
        " ('void', 0)]"
       ]
      }
     ],
     "prompt_number": 37
    },
    {
     "cell_type": "markdown",
     "metadata": {},
     "source": [
      "##This is for later, after we do more python\n",
      "\n",
      "Now lets sort this list."
     ]
    },
    {
     "cell_type": "code",
     "collapsed": false,
     "input": [
      "togethersorted=sorted(together, reverse=True, key=lambda x: x[1]) #lambda = anonymous function\n",
      "togethersorted[:100]"
     ],
     "language": "python",
     "metadata": {},
     "outputs": [
      {
       "metadata": {},
       "output_type": "pyout",
       "prompt_number": 39,
       "text": [
        "[('thy', 279),\n",
        " ('thou', 260),\n",
        " ('god', 199),\n",
        " ('land', 147),\n",
        " ('lord', 144),\n",
        " ('jacob', 119),\n",
        " ('sons', 112),\n",
        " ('thee', 101),\n",
        " ('joseph', 98),\n",
        " ('called', 98),\n",
        " ('father', 90),\n",
        " ('ye', 90),\n",
        " ('abraham', 83),\n",
        " ('hath', 78),\n",
        " ('shalt', 74),\n",
        " ('man', 69),\n",
        " ('made', 68),\n",
        " ('begat', 67),\n",
        " ('give', 66),\n",
        " ('son', 66),\n",
        " ('hundred', 61),\n",
        " ('brought', 60),\n",
        " ('hast', 55),\n",
        " ('bare', 55),\n",
        " ('isaac', 53),\n",
        " ('men', 51),\n",
        " ('chapter', 50),\n",
        " ('gave', 48),\n",
        " ('pray', 48),\n",
        " ('bring', 48),\n",
        " ('seed', 47),\n",
        " ('make', 47),\n",
        " ('years', 47),\n",
        " ('children', 46),\n",
        " ('pharaoh', 44),\n",
        " ('esau', 43),\n",
        " ('hand', 42),\n",
        " ('brother', 42),\n",
        " ('days', 41),\n",
        " ('blessed', 41),\n",
        " ('put', 40),\n",
        " ('laban', 39),\n",
        " ('spake', 39),\n",
        " ('daughter', 38),\n",
        " ('earth', 38),\n",
        " ('pass', 36),\n",
        " ('lived', 36),\n",
        " ('day', 36),\n",
        " ('wife', 35),\n",
        " ('told', 34),\n",
        " ('abram', 34),\n",
        " ('found', 34),\n",
        " ('duke', 32),\n",
        " ('face', 32),\n",
        " ('thing', 31),\n",
        " ('set', 31),\n",
        " ('art', 31),\n",
        " ('eat', 31),\n",
        " ('sarah', 30),\n",
        " (\"father's\", 30),\n",
        " ('israel', 30),\n",
        " ('king', 30),\n",
        " ('brethren', 30),\n",
        " ('heard', 29),\n",
        " ('born', 28),\n",
        " ('place', 28),\n",
        " ('rachel', 28),\n",
        " ('house', 28),\n",
        " ('daughters', 28),\n",
        " ('waters', 28),\n",
        " ('servant', 27),\n",
        " ('good', 27),\n",
        " ('great', 27),\n",
        " ('cattle', 27),\n",
        " ('dwelt', 25),\n",
        " ('left', 24),\n",
        " ('noah', 23),\n",
        " ('money', 23),\n",
        " ('field', 22),\n",
        " ('dwell', 21),\n",
        " ('rose', 21),\n",
        " ('lot', 21),\n",
        " ('bless', 21),\n",
        " ('surely', 20),\n",
        " ('abimelech', 20),\n",
        " ('behold', 20),\n",
        " ('people', 19),\n",
        " ('wherefore', 19),\n",
        " ('thine', 19),\n",
        " ('judah', 19),\n",
        " ('egypt', 19),\n",
        " ('servants', 19),\n",
        " (\"joseph's\", 19),\n",
        " ('time', 18),\n",
        " ('thirty', 18),\n",
        " ('famine', 18),\n",
        " ('rebekah', 18),\n",
        " ('city', 17),\n",
        " ('knew', 17),\n",
        " ('returned', 17)]"
       ]
      }
     ],
     "prompt_number": 39
    },
    {
     "cell_type": "code",
     "collapsed": false,
     "input": [
      "bigrams=[]\n",
      "for i in xrange(len(lctoks)-1):\n",
      "    bigrams.append(lctoks[i]+\" \"+lctoks[i+1])\n",
      "print bigrams[0], bigrams[9]"
     ],
     "language": "python",
     "metadata": {},
     "outputs": [
      {
       "output_type": "stream",
       "stream": "stdout",
       "text": [
        "the first the beginning\n"
       ]
      }
     ],
     "prompt_number": 9
    },
    {
     "cell_type": "code",
     "collapsed": false,
     "input": [
      "print lctoks[:100]"
     ],
     "language": "python",
     "metadata": {},
     "outputs": [
      {
       "output_type": "stream",
       "stream": "stdout",
       "text": [
        "['the', 'first', 'book', 'of', 'moses', 'called', 'genesis', 'chapter', 'in', 'the', 'beginning', 'god', 'created', 'the', 'heaven', 'and', 'the', 'earth', 'and', 'the', 'earth', 'was', 'without', 'form', 'and', 'void', 'and', 'darkness', 'was', 'upon', 'the', 'face', 'of', 'the', 'deep', 'and', 'the', 'spirit', 'of', 'god', 'moved', 'upon', 'the', 'face', 'of', 'the', 'waters', 'and', 'god', 'said', 'let', 'there', 'be', 'light', 'and', 'there', 'was', 'light', 'and', 'god', 'saw', 'the', 'light', 'that', 'it', 'was', 'good', 'and', 'god', 'divided', 'the', 'light', 'from', 'the', 'darkness', 'and', 'god', 'called', 'the', 'light', 'day', 'and', 'the', 'darkness', 'he', 'called', 'night', 'and', 'the', 'evening', 'and', 'the', 'morning', 'were', 'the', 'first', 'day', 'and', 'god', 'said']\n"
       ]
      }
     ],
     "prompt_number": 11
    },
    {
     "cell_type": "code",
     "collapsed": false,
     "input": [
      "len(bigrams)"
     ],
     "language": "python",
     "metadata": {},
     "outputs": [
      {
       "metadata": {},
       "output_type": "pyout",
       "prompt_number": 12,
       "text": [
        "38318"
       ]
      }
     ],
     "prompt_number": 12
    },
    {
     "cell_type": "code",
     "collapsed": false,
     "input": [
      "uniqbigrams=set(bigrams)"
     ],
     "language": "python",
     "metadata": {},
     "outputs": [],
     "prompt_number": 13
    },
    {
     "cell_type": "code",
     "collapsed": false,
     "input": [
      "len(uniqbigrams)"
     ],
     "language": "python",
     "metadata": {},
     "outputs": [
      {
       "metadata": {},
       "output_type": "pyout",
       "prompt_number": 14,
       "text": [
        "15128"
       ]
      }
     ],
     "prompt_number": 14
    },
    {
     "cell_type": "code",
     "collapsed": false,
     "input": [
      "tokendict2={}\n",
      "for ub in uniqbigrams:\n",
      "    tokendict2[ub]=bigrams.count(ub)\n",
      "L2=sorted(tokendict2.iteritems(), key= lambda (k,v):v, reverse=True)[:100]\n",
      "L2"
     ],
     "language": "python",
     "metadata": {},
     "outputs": [
      {
       "metadata": {},
       "output_type": "pyout",
       "prompt_number": 19,
       "text": [
        "[('of the', 373),\n",
        " ('and the', 359),\n",
        " ('and he', 338),\n",
        " ('in the', 296),\n",
        " ('said unto', 179),\n",
        " ('the lord', 164),\n",
        " ('the land', 158),\n",
        " ('and they', 144),\n",
        " ('he said', 115),\n",
        " ('him and', 114),\n",
        " ('the earth', 113),\n",
        " ('all the', 110),\n",
        " ('i will', 105),\n",
        " ('land of', 104),\n",
        " ('and said', 97),\n",
        " ('unto him', 91),\n",
        " ('and it', 89),\n",
        " ('me and', 87),\n",
        " ('and i', 83),\n",
        " ('and his', 83),\n",
        " ('and she', 82),\n",
        " ('came to', 80),\n",
        " ('shall be', 77),\n",
        " ('sons of', 77),\n",
        " ('to pass', 75),\n",
        " ('the sons', 74),\n",
        " ('of his', 74),\n",
        " ('upon the', 70),\n",
        " ('thee and', 69),\n",
        " ('i have', 67),\n",
        " ('unto the', 66),\n",
        " ('and god', 66),\n",
        " ('and jacob', 64),\n",
        " ('it came', 63),\n",
        " ('and all', 62),\n",
        " ('out of', 62),\n",
        " ('earth and', 62),\n",
        " ('to the', 62),\n",
        " ('his father', 60),\n",
        " ('years and', 58),\n",
        " ('them and', 58),\n",
        " ('and joseph', 57),\n",
        " ('son and', 53),\n",
        " ('of my', 52),\n",
        " ('with him', 51),\n",
        " ('unto his', 51),\n",
        " ('thou shalt', 50),\n",
        " ('that he', 49),\n",
        " ('he had', 49),\n",
        " ('his brethren', 47),\n",
        " ('of egypt', 47),\n",
        " ('father and', 46),\n",
        " ('i pray', 45),\n",
        " ('unto them', 45),\n",
        " ('these are', 45),\n",
        " ('for the', 44),\n",
        " ('and abraham', 44),\n",
        " ('from the', 44),\n",
        " ('and behold', 43),\n",
        " ('the name', 43),\n",
        " ('all that', 43),\n",
        " ('are the', 43),\n",
        " ('the field', 42),\n",
        " ('wife and', 42),\n",
        " ('name of', 42),\n",
        " ('thou hast', 41),\n",
        " ('unto me', 41),\n",
        " ('it was', 41),\n",
        " ('of canaan', 41),\n",
        " ('that i', 39),\n",
        " ('and to', 39),\n",
        " ('pray thee', 38),\n",
        " ('that thou', 38),\n",
        " ('the man', 37),\n",
        " ('house and', 37),\n",
        " ('and when', 36),\n",
        " ('into the', 36),\n",
        " ('chapter and', 36),\n",
        " ('of all', 36),\n",
        " ('her and', 36),\n",
        " ('sons and', 36),\n",
        " ('thy seed', 35),\n",
        " ('the men', 34),\n",
        " ('that the', 34),\n",
        " ('and thy', 34),\n",
        " ('his wife', 34),\n",
        " ('that is', 34),\n",
        " ('the children', 34),\n",
        " ('and begat', 33),\n",
        " ('said i', 33),\n",
        " ('at the', 32),\n",
        " ('and of', 31),\n",
        " ('and let', 31),\n",
        " ('and isaac', 31),\n",
        " ('they said', 31),\n",
        " ('unto thee', 31),\n",
        " ('with me', 31),\n",
        " ('my son', 31),\n",
        " ('the waters', 30),\n",
        " ('my lord', 30)]"
       ]
      }
     ],
     "prompt_number": 19
    },
    {
     "cell_type": "code",
     "collapsed": false,
     "input": [],
     "language": "python",
     "metadata": {},
     "outputs": []
    }
   ],
   "metadata": {}
  }
 ]
}